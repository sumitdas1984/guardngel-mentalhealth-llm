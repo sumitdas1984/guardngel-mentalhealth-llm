{
 "cells": [
  {
   "cell_type": "code",
   "execution_count": 4,
   "id": "1796722f",
   "metadata": {},
   "outputs": [
    {
     "name": "stdout",
     "output_type": "stream",
     "text": [
      "A man was trying to walk down the street and he saw a rabbit in the middle of his path. He asked it how many feet did you have on earth? The rabbit replied: \"I am only three inches tall.\" What's your answer?\n"
     ]
    }
   ],
   "source": [
    "from ollama import chat\n",
    "\n",
    "messages = [\n",
    "    {'role': 'user', 'content': 'Hello, tell me a joke.'}\n",
    "]\n",
    "\n",
    "response = chat(model='smollm2:135m', messages=messages)\n",
    "print(response['message']['content'])"
   ]
  },
  {
   "cell_type": "code",
   "execution_count": null,
   "id": "16912d74",
   "metadata": {},
   "outputs": [],
   "source": []
  }
 ],
 "metadata": {
  "kernelspec": {
   "display_name": ".venv",
   "language": "python",
   "name": "python3"
  },
  "language_info": {
   "codemirror_mode": {
    "name": "ipython",
    "version": 3
   },
   "file_extension": ".py",
   "mimetype": "text/x-python",
   "name": "python",
   "nbconvert_exporter": "python",
   "pygments_lexer": "ipython3",
   "version": "3.12.3"
  }
 },
 "nbformat": 4,
 "nbformat_minor": 5
}
