{
 "cells": [
  {
   "cell_type": "code",
   "execution_count": null,
   "id": "74adf08a",
   "metadata": {},
   "outputs": [],
   "source": [
    "# import requests"
   ]
  },
  {
   "cell_type": "code",
   "execution_count": null,
   "id": "29b3cce3",
   "metadata": {},
   "outputs": [],
   "source": [
    "# class Ollama:\n",
    "#     def __init__(self, host=\"http://localhost:11434\"):\n",
    "#         self.host = host\n",
    "\n",
    "#     def chat(self, model, messages):\n",
    "#         url = f\"{self.host}/api/chat\"\n",
    "#         payload = {\"model\": model, \"messages\": messages, \"stream\": False}\n",
    "#         response = requests.post(url, json=payload)\n",
    "#         response.raise_for_status()\n",
    "#         return response.json()"
   ]
  },
  {
   "cell_type": "code",
   "execution_count": null,
   "id": "959f7009",
   "metadata": {},
   "outputs": [],
   "source": [
    "# # Usage\n",
    "# client = Ollama()\n",
    "\n",
    "# completion = client.chat(\n",
    "#     model=\"llama3.2\",\n",
    "#     messages=[\n",
    "#         {\"role\": \"user\", \"content\": \"Write a one-sentence bedtime story about a unicorn.\"}\n",
    "#     ]\n",
    "# )\n",
    "\n",
    "# print(completion[\"message\"][\"content\"])"
   ]
  },
  {
   "cell_type": "code",
   "execution_count": 12,
   "id": "593d6ff9",
   "metadata": {},
   "outputs": [
    {
     "name": "stdout",
     "output_type": "stream",
     "text": [
      "Why don't eggs tell jokes?\n",
      "\n",
      "Because they'd crack each other up!\n"
     ]
    }
   ],
   "source": [
    "from ollama import chat\n",
    "\n",
    "messages = [\n",
    "    {'role': 'user', 'content': 'Hello, tell me a joke.'}\n",
    "]\n",
    "\n",
    "response = chat(model='llama3.2:latest', messages=messages)\n",
    "print(response['message']['content'])"
   ]
  },
  {
   "cell_type": "code",
   "execution_count": null,
   "id": "81718630",
   "metadata": {},
   "outputs": [],
   "source": []
  }
 ],
 "metadata": {
  "kernelspec": {
   "display_name": ".venv",
   "language": "python",
   "name": "python3"
  },
  "language_info": {
   "codemirror_mode": {
    "name": "ipython",
    "version": 3
   },
   "file_extension": ".py",
   "mimetype": "text/x-python",
   "name": "python",
   "nbconvert_exporter": "python",
   "pygments_lexer": "ipython3",
   "version": "3.12.3"
  }
 },
 "nbformat": 4,
 "nbformat_minor": 5
}
