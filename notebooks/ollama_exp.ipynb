{
 "cells": [
  {
   "cell_type": "code",
   "execution_count": 1,
   "id": "74adf08a",
   "metadata": {},
   "outputs": [],
   "source": [
    "import requests"
   ]
  },
  {
   "cell_type": "code",
   "execution_count": 2,
   "id": "29b3cce3",
   "metadata": {},
   "outputs": [],
   "source": [
    "class Ollama:\n",
    "    def __init__(self, host=\"http://localhost:11434\"):\n",
    "        self.host = host\n",
    "\n",
    "    def chat(self, model, messages):\n",
    "        url = f\"{self.host}/api/chat\"\n",
    "        payload = {\"model\": model, \"messages\": messages, \"stream\": False}\n",
    "        response = requests.post(url, json=payload)\n",
    "        response.raise_for_status()\n",
    "        return response.json()"
   ]
  },
  {
   "cell_type": "code",
   "execution_count": 3,
   "id": "959f7009",
   "metadata": {},
   "outputs": [],
   "source": [
    "# Usage\n",
    "client = Ollama()\n",
    "\n",
    "completion = client.chat(\n",
    "    model=\"llama3.2\",\n",
    "    messages=[\n",
    "        {\"role\": \"user\", \"content\": \"Write a one-sentence bedtime story about a unicorn.\"}\n",
    "    ]\n",
    ")"
   ]
  },
  {
   "cell_type": "code",
   "execution_count": 4,
   "id": "593d6ff9",
   "metadata": {},
   "outputs": [
    {
     "name": "stdout",
     "output_type": "stream",
     "text": [
      "As the stars twinkled to life in the night sky, a gentle unicorn named Luna pranced through a field of sparkling flowers, leaving a trail of shimmering moonbeams that led her dreamy self back to a cozy little nest beneath a whispering willow tree, where she drifted off to sleep surrounded by the sweet scent of magic.\n"
     ]
    }
   ],
   "source": [
    "print(completion[\"message\"][\"content\"])"
   ]
  },
  {
   "cell_type": "code",
   "execution_count": null,
   "id": "81718630",
   "metadata": {},
   "outputs": [],
   "source": []
  }
 ],
 "metadata": {
  "kernelspec": {
   "display_name": ".venv",
   "language": "python",
   "name": "python3"
  },
  "language_info": {
   "codemirror_mode": {
    "name": "ipython",
    "version": 3
   },
   "file_extension": ".py",
   "mimetype": "text/x-python",
   "name": "python",
   "nbconvert_exporter": "python",
   "pygments_lexer": "ipython3",
   "version": "3.12.3"
  }
 },
 "nbformat": 4,
 "nbformat_minor": 5
}
